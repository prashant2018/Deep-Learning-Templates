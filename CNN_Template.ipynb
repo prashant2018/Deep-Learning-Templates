{
  "nbformat": 4,
  "nbformat_minor": 0,
  "metadata": {
    "colab": {
      "name": "CNN_Template",
      "version": "0.3.2",
      "provenance": [],
      "collapsed_sections": [],
      "include_colab_link": true
    },
    "kernelspec": {
      "name": "python3",
      "display_name": "Python 3"
    }
  },
  "cells": [
    {
      "cell_type": "markdown",
      "metadata": {
        "id": "view-in-github",
        "colab_type": "text"
      },
      "source": [
        "<a href=\"https://colab.research.google.com/github/prashant2018/Deep-Learning-Templates/blob/master/CNN_Template.ipynb\" target=\"_parent\"><img src=\"https://colab.research.google.com/assets/colab-badge.svg\" alt=\"Open In Colab\"/></a>"
      ]
    },
    {
      "metadata": {
        "id": "LhBC_bioxVpd",
        "colab_type": "code",
        "outputId": "ee54becc-dae2-4079-b62f-caff537e1ca4",
        "colab": {
          "base_uri": "https://localhost:8080/",
          "height": 34
        }
      },
      "cell_type": "code",
      "source": [
        "# Part-1 Building CNN\n",
        "# Import dependencies\n",
        "import tensorflow as tf\n",
        "from tensorflow import keras\n",
        "from keras.models import Sequential\n",
        "from keras.layers import Convolution2D\n",
        "from keras.layers import MaxPool2D\n",
        "from keras.layers import Flatten\n",
        "from keras.layers import Dense\n",
        "from keras.layers import Dropout\n",
        "import numpy as np\n",
        "import matplotlib.pyplot as plt"
      ],
      "execution_count": 1,
      "outputs": [
        {
          "output_type": "stream",
          "text": [
            "Using TensorFlow backend.\n"
          ],
          "name": "stderr"
        }
      ]
    },
    {
      "metadata": {
        "colab_type": "code",
        "id": "J4pMKRkUB5hL",
        "outputId": "a633d0ce-22e0-4b32-dbd2-60b87d80f09a",
        "colab": {
          "base_uri": "https://localhost:8080/",
          "height": 88
        }
      },
      "cell_type": "code",
      "source": [
        "# Initializing\n",
        "classifier = Sequential()\n",
        "\n",
        "# Step 1 - Convolution\n",
        "classifier.add(Convolution2D(filters=32, kernel_size=(3,3), input_shape=(28,28,1), activation=tf.nn.relu))\n",
        "classifier.add(Convolution2D(filters=32, kernel_size=(3,3), activation=tf.nn.relu))\n",
        "\n",
        "#Step 2 - Max Pooling\n",
        "classifier.add(MaxPool2D(pool_size=(2,2)))\n",
        "\n",
        "classifier.add(Convolution2D(filters=64, kernel_size=(3,3), activation=tf.nn.relu))\n",
        "classifier.add(Convolution2D(filters=64, kernel_size=(3,3), activation=tf.nn.relu))\n",
        "classifier.add(MaxPool2D(pool_size=(2,2)))\n",
        "\n",
        "#Step 3 - Flattening\n",
        "classifier.add(Flatten())\n",
        " \n",
        "#Step 4 - Full Connections\n",
        "classifier.add(Dense(units = 512, activation=tf.nn.relu))\n",
        "classifier.add(Dense(units = 10, activation=tf.nn.softmax))\n",
        "\n",
        "classifier.compile(optimizer='adam', loss='sparse_categorical_crossentropy', metrics=['accuracy']) \n"
      ],
      "execution_count": 2,
      "outputs": [
        {
          "output_type": "stream",
          "text": [
            "WARNING:tensorflow:From /usr/local/lib/python3.6/dist-packages/tensorflow/python/framework/op_def_library.py:263: colocate_with (from tensorflow.python.framework.ops) is deprecated and will be removed in a future version.\n",
            "Instructions for updating:\n",
            "Colocations handled automatically by placer.\n"
          ],
          "name": "stdout"
        }
      ]
    },
    {
      "metadata": {
        "id": "Pbw3voWD43zI",
        "colab_type": "code",
        "colab": {
          "base_uri": "https://localhost:8080/",
          "height": 153
        },
        "outputId": "0cfff926-6b9c-499a-8b37-a196a692eea2"
      },
      "cell_type": "code",
      "source": [
        "#Loading and preprocessing data\n",
        "fashion_mnist = keras.datasets.fashion_mnist\n",
        "\n",
        "(train_images, train_labels), (test_images, test_labels) = fashion_mnist.load_data()\n",
        "\n",
        "train_images = train_images/255.0\n",
        "test_images = test_images/255.0\n",
        "\n",
        "train_images = np.resize(train_images,(train_images.shape[0],28,28,1))\n",
        "test_images = np.resize(test_images,(test_images.shape[0],28,28,1))\n",
        "\n",
        "class_names = ['T-shirt/top', 'Trouser', 'Pullover', 'Dress', 'Coat', \n",
        "               'Sandal', 'Shirt', 'Sneaker', 'Bag', 'Ankle boot']"
      ],
      "execution_count": 3,
      "outputs": [
        {
          "output_type": "stream",
          "text": [
            "Downloading data from https://storage.googleapis.com/tensorflow/tf-keras-datasets/train-labels-idx1-ubyte.gz\n",
            "32768/29515 [=================================] - 0s 0us/step\n",
            "Downloading data from https://storage.googleapis.com/tensorflow/tf-keras-datasets/train-images-idx3-ubyte.gz\n",
            "26427392/26421880 [==============================] - 0s 0us/step\n",
            "Downloading data from https://storage.googleapis.com/tensorflow/tf-keras-datasets/t10k-labels-idx1-ubyte.gz\n",
            "8192/5148 [===============================================] - 0s 0us/step\n",
            "Downloading data from https://storage.googleapis.com/tensorflow/tf-keras-datasets/t10k-images-idx3-ubyte.gz\n",
            "4423680/4422102 [==============================] - 0s 0us/step\n"
          ],
          "name": "stdout"
        }
      ]
    },
    {
      "metadata": {
        "id": "VUmpYXix0iYK",
        "colab_type": "code",
        "outputId": "34c5d634-2550-40aa-a443-588aa02e4c8b",
        "colab": {
          "base_uri": "https://localhost:8080/",
          "height": 445
        }
      },
      "cell_type": "code",
      "source": [
        "# Part 2 - Fitting the CNN to the images\n",
        "\n",
        "# Train the model\n",
        "classifier.fit(train_images, train_labels, epochs=10)"
      ],
      "execution_count": 4,
      "outputs": [
        {
          "output_type": "stream",
          "text": [
            "WARNING:tensorflow:From /usr/local/lib/python3.6/dist-packages/tensorflow/python/ops/math_ops.py:3066: to_int32 (from tensorflow.python.ops.math_ops) is deprecated and will be removed in a future version.\n",
            "Instructions for updating:\n",
            "Use tf.cast instead.\n",
            "Epoch 1/10\n",
            "60000/60000 [==============================] - 165s 3ms/step - loss: 0.4249 - acc: 0.8429\n",
            "Epoch 2/10\n",
            "60000/60000 [==============================] - 165s 3ms/step - loss: 0.2707 - acc: 0.8998\n",
            "Epoch 3/10\n",
            "60000/60000 [==============================] - 164s 3ms/step - loss: 0.2264 - acc: 0.9148\n",
            "Epoch 4/10\n",
            "60000/60000 [==============================] - 163s 3ms/step - loss: 0.1949 - acc: 0.9265\n",
            "Epoch 5/10\n",
            "60000/60000 [==============================] - 163s 3ms/step - loss: 0.1674 - acc: 0.9371\n",
            "Epoch 6/10\n",
            "60000/60000 [==============================] - 164s 3ms/step - loss: 0.1439 - acc: 0.9470\n",
            "Epoch 7/10\n",
            "60000/60000 [==============================] - 165s 3ms/step - loss: 0.1220 - acc: 0.9544\n",
            "Epoch 8/10\n",
            "60000/60000 [==============================] - 165s 3ms/step - loss: 0.1036 - acc: 0.9613\n",
            "Epoch 9/10\n",
            "60000/60000 [==============================] - 164s 3ms/step - loss: 0.0898 - acc: 0.9661\n",
            "Epoch 10/10\n",
            "60000/60000 [==============================] - 165s 3ms/step - loss: 0.0726 - acc: 0.9726\n"
          ],
          "name": "stdout"
        },
        {
          "output_type": "execute_result",
          "data": {
            "text/plain": [
              "<keras.callbacks.History at 0x7fe29000a780>"
            ]
          },
          "metadata": {
            "tags": []
          },
          "execution_count": 4
        }
      ]
    },
    {
      "metadata": {
        "id": "SmDOavNP4VDQ",
        "colab_type": "code",
        "outputId": "fb23e384-c6e7-4e9e-fdd7-ed626428ae98",
        "colab": {
          "base_uri": "https://localhost:8080/",
          "height": 51
        }
      },
      "cell_type": "code",
      "source": [
        "# Evaluating the model\n",
        "test_loss, test_acc = classifier.evaluate(test_images, test_labels)\n",
        "print('Test accuracy:', test_acc)"
      ],
      "execution_count": 5,
      "outputs": [
        {
          "output_type": "stream",
          "text": [
            "10000/10000 [==============================] - 7s 723us/step\n",
            "Test accuracy: 0.923\n"
          ],
          "name": "stdout"
        }
      ]
    },
    {
      "metadata": {
        "id": "iBf5GhHgKcDo",
        "colab_type": "code",
        "outputId": "6a7e9803-a420-41e9-9d0c-25ef5905b134",
        "colab": {
          "base_uri": "https://localhost:8080/",
          "height": 51
        }
      },
      "cell_type": "code",
      "source": [
        "# Predictions\n",
        "predictions = classifier.predict(test_images)\n",
        "image_to_test = 120\n",
        "actual_value = test_labels[image_to_test]\n",
        "predicted_value = np.argmax(predictions[image_to_test])\n",
        "print(\"Actual:\",class_names[actual_value])\n",
        "print(\"Predicted:\",class_names[predicted_value])"
      ],
      "execution_count": 7,
      "outputs": [
        {
          "output_type": "stream",
          "text": [
            "Actual: T-shirt/top\n",
            "Predicted: T-shirt/top\n"
          ],
          "name": "stdout"
        }
      ]
    },
    {
      "metadata": {
        "id": "QqUJha0DQ-Ei",
        "colab_type": "code",
        "colab": {}
      },
      "cell_type": "code",
      "source": [
        ""
      ],
      "execution_count": 0,
      "outputs": []
    }
  ]
}