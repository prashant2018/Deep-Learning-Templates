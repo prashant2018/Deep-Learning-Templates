{
  "nbformat": 4,
  "nbformat_minor": 0,
  "metadata": {
    "colab": {
      "name": "CNN_Template",
      "version": "0.3.2",
      "provenance": [],
      "collapsed_sections": []
    },
    "kernelspec": {
      "name": "python3",
      "display_name": "Python 3"
    }
  },
  "cells": [
    {
      "metadata": {
        "id": "LhBC_bioxVpd",
        "colab_type": "code",
        "colab": {
          "base_uri": "https://localhost:8080/",
          "height": 34
        },
        "outputId": "d96f2719-046f-434e-fd55-4629dea9b571"
      },
      "cell_type": "code",
      "source": [
        "# Part-1 Building CNN\n",
        "# Import dependencies\n",
        "import tensorflow as tf\n",
        "from tensorflow import keras\n",
        "from keras.models import Sequential\n",
        "from keras.layers import Convolution2D\n",
        "from keras.layers import MaxPool2D\n",
        "from keras.layers import Flatten\n",
        "from keras.layers import Dense\n",
        "from keras.layers import Dropout\n",
        "import numpy as np\n",
        "import matplotlib.pyplot as plt"
      ],
      "execution_count": 1,
      "outputs": [
        {
          "output_type": "stream",
          "text": [
            "Using TensorFlow backend.\n"
          ],
          "name": "stderr"
        }
      ]
    },
    {
      "metadata": {
        "colab_type": "code",
        "id": "J4pMKRkUB5hL",
        "colab": {
          "base_uri": "https://localhost:8080/",
          "height": 139
        },
        "outputId": "19ba97cc-2783-4ff0-9c9f-199e53382f12"
      },
      "cell_type": "code",
      "source": [
        "# Initializing\n",
        "classifier = Sequential()\n",
        "\n",
        "# Step 1 - Convolution\n",
        "classifier.add(Convolution2D(filters=32, kernel_size=(3,3), input_shape=(28,28,1), activation=tf.nn.relu))\n",
        "\n",
        "#Step 2 - Max Pooling\n",
        "classifier.add(MaxPool2D(pool_size=(2,2)))\n",
        "\n",
        "classifier.add(Convolution2D(filters=32, kernel_size=(3,3), activation=tf.nn.relu))\n",
        "classifier.add(Dropout(0.2))\n",
        "classifier.add(Convolution2D(filters=64, kernel_size=(3,3), activation=tf.nn.relu))\n",
        "classifier.add(MaxPool2D(pool_size=(2,2)))\n",
        "\n",
        "#Step 3 - Flattening\n",
        "classifier.add(Flatten())\n",
        " \n",
        "#Step 4 - Full Connections\n",
        "classifier.add(Dense(units = 128, activation=tf.nn.relu))\n",
        "classifier.add(Dense(units = 10, activation=tf.nn.softmax))\n",
        "\n",
        "classifier.compile(optimizer='adam', loss='sparse_categorical_crossentropy', metrics=['accuracy']) \n"
      ],
      "execution_count": 2,
      "outputs": [
        {
          "output_type": "stream",
          "text": [
            "WARNING:tensorflow:From /usr/local/lib/python3.6/dist-packages/tensorflow/python/framework/op_def_library.py:263: colocate_with (from tensorflow.python.framework.ops) is deprecated and will be removed in a future version.\n",
            "Instructions for updating:\n",
            "Colocations handled automatically by placer.\n",
            "WARNING:tensorflow:From /usr/local/lib/python3.6/dist-packages/keras/backend/tensorflow_backend.py:3445: calling dropout (from tensorflow.python.ops.nn_ops) with keep_prob is deprecated and will be removed in a future version.\n",
            "Instructions for updating:\n",
            "Please use `rate` instead of `keep_prob`. Rate should be set to `rate = 1 - keep_prob`.\n"
          ],
          "name": "stdout"
        }
      ]
    },
    {
      "metadata": {
        "id": "Pbw3voWD43zI",
        "colab_type": "code",
        "colab": {}
      },
      "cell_type": "code",
      "source": [
        "#Loading and preprocessing data\n",
        "fashion_mnist = keras.datasets.fashion_mnist\n",
        "\n",
        "(train_images, train_labels), (test_images, test_labels) = fashion_mnist.load_data()\n",
        "\n",
        "train_images = train_images/255.0\n",
        "test_images = test_images/255.0\n",
        "\n",
        "train_images = np.resize(train_images,(train_images.shape[0],28,28,1))\n",
        "test_images = np.resize(test_images,(test_images.shape[0],28,28,1))\n",
        "\n",
        "class_names = ['T-shirt/top', 'Trouser', 'Pullover', 'Dress', 'Coat', \n",
        "               'Sandal', 'Shirt', 'Sneaker', 'Bag', 'Ankle boot']"
      ],
      "execution_count": 0,
      "outputs": []
    },
    {
      "metadata": {
        "id": "VUmpYXix0iYK",
        "colab_type": "code",
        "outputId": "74d0bf2b-15e8-4e52-aa02-d9001a377479",
        "colab": {
          "base_uri": "https://localhost:8080/",
          "height": 445
        }
      },
      "cell_type": "code",
      "source": [
        "# Part 2 - Fitting the CNN to the images\n",
        "\n",
        "# Train the model\n",
        "classifier.fit(train_images, train_labels, epochs=10)"
      ],
      "execution_count": 4,
      "outputs": [
        {
          "output_type": "stream",
          "text": [
            "WARNING:tensorflow:From /usr/local/lib/python3.6/dist-packages/tensorflow/python/ops/math_ops.py:3066: to_int32 (from tensorflow.python.ops.math_ops) is deprecated and will be removed in a future version.\n",
            "Instructions for updating:\n",
            "Use tf.cast instead.\n",
            "Epoch 1/10\n",
            "60000/60000 [==============================] - 76s 1ms/step - loss: 0.5100 - acc: 0.8114\n",
            "Epoch 2/10\n",
            "60000/60000 [==============================] - 75s 1ms/step - loss: 0.3265 - acc: 0.8807\n",
            "Epoch 3/10\n",
            "60000/60000 [==============================] - 74s 1ms/step - loss: 0.2800 - acc: 0.8957\n",
            "Epoch 4/10\n",
            "60000/60000 [==============================] - 73s 1ms/step - loss: 0.2540 - acc: 0.9046\n",
            "Epoch 5/10\n",
            "60000/60000 [==============================] - 74s 1ms/step - loss: 0.2340 - acc: 0.9128\n",
            "Epoch 6/10\n",
            "60000/60000 [==============================] - 73s 1ms/step - loss: 0.2166 - acc: 0.9176\n",
            "Epoch 7/10\n",
            "60000/60000 [==============================] - 73s 1ms/step - loss: 0.2012 - acc: 0.9232\n",
            "Epoch 8/10\n",
            "60000/60000 [==============================] - 72s 1ms/step - loss: 0.1877 - acc: 0.9283\n",
            "Epoch 9/10\n",
            "60000/60000 [==============================] - 73s 1ms/step - loss: 0.1758 - acc: 0.9335\n",
            "Epoch 10/10\n",
            "60000/60000 [==============================] - 72s 1ms/step - loss: 0.1675 - acc: 0.9367\n"
          ],
          "name": "stdout"
        },
        {
          "output_type": "execute_result",
          "data": {
            "text/plain": [
              "<keras.callbacks.History at 0x7faeb265b6d8>"
            ]
          },
          "metadata": {
            "tags": []
          },
          "execution_count": 4
        }
      ]
    },
    {
      "metadata": {
        "id": "SmDOavNP4VDQ",
        "colab_type": "code",
        "outputId": "f98796c8-ad4b-42b3-b8d4-e643b57ca13e",
        "colab": {
          "base_uri": "https://localhost:8080/",
          "height": 51
        }
      },
      "cell_type": "code",
      "source": [
        "# Evaluating the model\n",
        "test_loss, test_acc = classifier.evaluate(test_images, test_labels)\n",
        "print('Test accuracy:', test_acc)"
      ],
      "execution_count": 5,
      "outputs": [
        {
          "output_type": "stream",
          "text": [
            "10000/10000 [==============================] - 4s 354us/step\n",
            "Test accuracy: 0.915\n"
          ],
          "name": "stdout"
        }
      ]
    },
    {
      "metadata": {
        "id": "iBf5GhHgKcDo",
        "colab_type": "code",
        "outputId": "d4d099fd-45b3-4640-994e-7d2d9b52a1cc",
        "colab": {
          "base_uri": "https://localhost:8080/",
          "height": 51
        }
      },
      "cell_type": "code",
      "source": [
        "# Predictions\n",
        "predictions = classifier.predict(test_images)\n",
        "image_to_test = 97\n",
        "actual_value = test_labels[image_to_test]\n",
        "predicted_value = np.argmax(predictions[image_to_test])\n",
        "print(\"Actual:\",class_names[actual_value])\n",
        "print(\"Predicted:\",class_names[predicted_value])"
      ],
      "execution_count": 6,
      "outputs": [
        {
          "output_type": "stream",
          "text": [
            "Actual: Trouser\n",
            "Predicted: Trouser\n"
          ],
          "name": "stdout"
        }
      ]
    },
    {
      "metadata": {
        "id": "QqUJha0DQ-Ei",
        "colab_type": "code",
        "colab": {}
      },
      "cell_type": "code",
      "source": [
        ""
      ],
      "execution_count": 0,
      "outputs": []
    }
  ]
}