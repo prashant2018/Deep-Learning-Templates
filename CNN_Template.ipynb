{
  "nbformat": 4,
  "nbformat_minor": 0,
  "metadata": {
    "colab": {
      "name": "CNN_Template",
      "version": "0.3.2",
      "provenance": [],
      "collapsed_sections": [],
      "include_colab_link": true
    },
    "kernelspec": {
      "name": "python3",
      "display_name": "Python 3"
    }
  },
  "cells": [
    {
      "cell_type": "markdown",
      "metadata": {
        "id": "view-in-github",
        "colab_type": "text"
      },
      "source": [
        "<a href=\"https://colab.research.google.com/github/prashant2018/Deep-Learning-Templates/blob/master/CNN_Template.ipynb\" target=\"_parent\"><img src=\"https://colab.research.google.com/assets/colab-badge.svg\" alt=\"Open In Colab\"/></a>"
      ]
    },
    {
      "metadata": {
        "id": "LhBC_bioxVpd",
        "colab_type": "code",
        "colab": {}
      },
      "cell_type": "code",
      "source": [
        "# Part-1 Building CNN\n",
        "# Import dependencies\n",
        "import tensorflow as tf\n",
        "from tensorflow import keras\n",
        "from keras.models import Sequential\n",
        "from keras.layers import Convolution2D\n",
        "from keras.layers import MaxPool2D\n",
        "from keras.layers import Flatten\n",
        "from keras.layers import Dense\n",
        "from keras.layers import Dropout\n",
        "import numpy as np\n",
        "import matplotlib.pyplot as plt"
      ],
      "execution_count": 0,
      "outputs": []
    },
    {
      "metadata": {
        "colab_type": "code",
        "id": "J4pMKRkUB5hL",
        "colab": {}
      },
      "cell_type": "code",
      "source": [
        "# Initializing\n",
        "classifier = Sequential()\n",
        "\n",
        "# Step 1 - Convolution\n",
        "classifier.add(Convolution2D(filters=32, kernel_size=(3,3), input_shape=(28,28,1), activation=tf.nn.relu))\n",
        "\n",
        "#Step 2 - Max Pooling\n",
        "classifier.add(MaxPool2D(pool_size=(2,2)))\n",
        "\n",
        "classifier.add(Convolution2D(filters=32, kernel_size=(3,3), activation=tf.nn.relu))\n",
        "classifier.add(Convolution2D(filters=64, kernel_size=(3,3), activation=tf.nn.relu))\n",
        "classifier.add(MaxPool2D(pool_size=(2,2)))\n",
        "\n",
        "#Step 3 - Flattening\n",
        "classifier.add(Flatten())\n",
        " \n",
        "#Step 4 - Full Connections\n",
        "classifier.add(Dense(units = 128, activation=tf.nn.relu))\n",
        "classifier.add(Dense(units = 10, activation=tf.nn.softmax))\n",
        "\n",
        "classifier.compile(optimizer='adam', loss='sparse_categorical_crossentropy', metrics=['accuracy']) \n"
      ],
      "execution_count": 0,
      "outputs": []
    },
    {
      "metadata": {
        "id": "Pbw3voWD43zI",
        "colab_type": "code",
        "colab": {}
      },
      "cell_type": "code",
      "source": [
        "#Loading and preprocessing data\n",
        "fashion_mnist = keras.datasets.fashion_mnist\n",
        "\n",
        "(train_images, train_labels), (test_images, test_labels) = fashion_mnist.load_data()\n",
        "\n",
        "train_images = train_images/255.0\n",
        "test_images = test_images/255.0\n",
        "\n",
        "train_images = np.resize(train_images,(train_images.shape[0],28,28,1))\n",
        "test_images = np.resize(test_images,(test_images.shape[0],28,28,1))\n",
        "\n",
        "class_names = ['T-shirt/top', 'Trouser', 'Pullover', 'Dress', 'Coat', \n",
        "               'Sandal', 'Shirt', 'Sneaker', 'Bag', 'Ankle boot']"
      ],
      "execution_count": 0,
      "outputs": []
    },
    {
      "metadata": {
        "id": "VUmpYXix0iYK",
        "colab_type": "code",
        "colab": {
          "base_uri": "https://localhost:8080/",
          "height": 204
        },
        "outputId": "0e2a8033-0e0c-4713-9e0c-3532405a2622"
      },
      "cell_type": "code",
      "source": [
        "# Part 2 - Fitting the CNN to the images\n",
        "\n",
        "# Train the model\n",
        "classifier.fit(train_images, train_labels, epochs=20)"
      ],
      "execution_count": 27,
      "outputs": [
        {
          "output_type": "stream",
          "text": [
            "Epoch 1/5\n",
            "60000/60000 [==============================] - 55s 918us/step - loss: 0.4651 - acc: 0.8321\n",
            "Epoch 2/5\n",
            "60000/60000 [==============================] - 53s 886us/step - loss: 0.3158 - acc: 0.8847\n",
            "Epoch 3/5\n",
            "60000/60000 [==============================] - 53s 884us/step - loss: 0.2741 - acc: 0.8988\n",
            "Epoch 4/5\n",
            "60000/60000 [==============================] - 53s 886us/step - loss: 0.2444 - acc: 0.9094\n",
            "Epoch 5/5\n",
            "60000/60000 [==============================] - 53s 886us/step - loss: 0.2203 - acc: 0.9173\n"
          ],
          "name": "stdout"
        },
        {
          "output_type": "execute_result",
          "data": {
            "text/plain": [
              "<keras.callbacks.History at 0x7f8169261940>"
            ]
          },
          "metadata": {
            "tags": []
          },
          "execution_count": 27
        }
      ]
    },
    {
      "metadata": {
        "id": "SmDOavNP4VDQ",
        "colab_type": "code",
        "colab": {
          "base_uri": "https://localhost:8080/",
          "height": 51
        },
        "outputId": "4d896e00-6d6c-4aca-efff-09b8b2aff7dc"
      },
      "cell_type": "code",
      "source": [
        "# Evaluating the model\n",
        "test_loss, test_acc = classifier.evaluate(test_images, test_labels)\n",
        "print('Test accuracy:', test_acc)"
      ],
      "execution_count": 28,
      "outputs": [
        {
          "output_type": "stream",
          "text": [
            "10000/10000 [==============================] - 3s 262us/step\n",
            "Test accuracy: 0.9026\n"
          ],
          "name": "stdout"
        }
      ]
    },
    {
      "metadata": {
        "id": "iBf5GhHgKcDo",
        "colab_type": "code",
        "colab": {
          "base_uri": "https://localhost:8080/",
          "height": 51
        },
        "outputId": "c5bf0652-4597-45f2-81dd-5919b240d5cf"
      },
      "cell_type": "code",
      "source": [
        "# Predictions\n",
        "predictions = classifier.predict(test_images)\n",
        "image_to_test = 97\n",
        "actual_value = test_labels[image_to_test]\n",
        "predicted_value = np.argmax(predictions[image_to_test])\n",
        "print(\"Actual:\",class_names[actual_value])\n",
        "print(\"Predicted:\",class_names[predicted_value])"
      ],
      "execution_count": 36,
      "outputs": [
        {
          "output_type": "stream",
          "text": [
            "Actual: Trouser\n",
            "Predicted: Trouser\n"
          ],
          "name": "stdout"
        }
      ]
    },
    {
      "metadata": {
        "id": "QqUJha0DQ-Ei",
        "colab_type": "code",
        "colab": {}
      },
      "cell_type": "code",
      "source": [
        ""
      ],
      "execution_count": 0,
      "outputs": []
    }
  ]
}